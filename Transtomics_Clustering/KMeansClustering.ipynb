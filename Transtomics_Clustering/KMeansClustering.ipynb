{
 "cells": [
  {
   "cell_type": "code",
   "execution_count": 1,
   "metadata": {
    "collapsed": true
   },
   "outputs": [],
   "source": [
    "import pandas as pd\n",
    "import numpy as np\n",
    "\n",
    "import dash\n",
    "import dash_core_components as dcc\n",
    "import dash_html_components as html\n",
    "\n",
    "import matplotlib.pyplot as plt \n",
    "%matplotlib inline\n",
    "\n",
    "from sklearn.cluster import KMeans\n",
    "\n",
    "import time"
   ]
  },
  {
   "cell_type": "code",
   "execution_count": 2,
   "metadata": {
    "collapsed": true
   },
   "outputs": [],
   "source": [
    "df = pd.read_csv('df5_log2_ratio.csv', index_col = ['locus_tag'])"
   ]
  },
  {
   "cell_type": "code",
   "execution_count": 3,
   "metadata": {},
   "outputs": [
    {
     "data": {
      "text/html": [
       "<div>\n",
       "<style>\n",
       "    .dataframe thead tr:only-child th {\n",
       "        text-align: right;\n",
       "    }\n",
       "\n",
       "    .dataframe thead th {\n",
       "        text-align: left;\n",
       "    }\n",
       "\n",
       "    .dataframe tbody tr th {\n",
       "        vertical-align: top;\n",
       "    }\n",
       "</style>\n",
       "<table border=\"1\" class=\"dataframe\">\n",
       "  <thead>\n",
       "    <tr style=\"text-align: right;\">\n",
       "      <th></th>\n",
       "      <th>FM18_CH3OH_4.1/day</th>\n",
       "      <th>FM18_CH3OH_4.1/day_R1</th>\n",
       "      <th>FM20_no-lim_5.2/day</th>\n",
       "      <th>FM20_no-lim_5.2/day_R1</th>\n",
       "      <th>FM21_no-lim_5.4/day</th>\n",
       "      <th>FM21_no-lim_5.4/day_R1</th>\n",
       "      <th>FM21_no-lim_5.4/day_R2</th>\n",
       "      <th>FM12_CH4-lim_3.0/day</th>\n",
       "      <th>FM12_CH4-lim_3.0/day_R1</th>\n",
       "      <th>FM14_CH4-lim_3.0/day</th>\n",
       "      <th>...</th>\n",
       "      <th>FM34_+Cu_2.7/day_t480m</th>\n",
       "      <th>FM69_O2-lim+_0.7/day_t2</th>\n",
       "      <th>FM69_?-lim_0.7/day_t3</th>\n",
       "      <th>FM69_?-lim_0.7/day_t3_R1</th>\n",
       "      <th>FM69_?-lim_0.7/day_t4</th>\n",
       "      <th>FM69_?-lim_0.7/day_t4_R2</th>\n",
       "      <th>FM80_O2-lim_0.7/day_t2</th>\n",
       "      <th>FM80_O2-lim_0.7/day_t4</th>\n",
       "      <th>FM81_O2-lim+_0.7/day_t1</th>\n",
       "      <th>FM81_O2-lim_0.7/day_t2</th>\n",
       "    </tr>\n",
       "    <tr>\n",
       "      <th>locus_tag</th>\n",
       "      <th></th>\n",
       "      <th></th>\n",
       "      <th></th>\n",
       "      <th></th>\n",
       "      <th></th>\n",
       "      <th></th>\n",
       "      <th></th>\n",
       "      <th></th>\n",
       "      <th></th>\n",
       "      <th></th>\n",
       "      <th></th>\n",
       "      <th></th>\n",
       "      <th></th>\n",
       "      <th></th>\n",
       "      <th></th>\n",
       "      <th></th>\n",
       "      <th></th>\n",
       "      <th></th>\n",
       "      <th></th>\n",
       "      <th></th>\n",
       "      <th></th>\n",
       "    </tr>\n",
       "  </thead>\n",
       "  <tbody>\n",
       "    <tr>\n",
       "      <th>MBURv2_100001</th>\n",
       "      <td>0.192390</td>\n",
       "      <td>0.399056</td>\n",
       "      <td>0.226044</td>\n",
       "      <td>0.031919</td>\n",
       "      <td>-0.259212</td>\n",
       "      <td>0.024218</td>\n",
       "      <td>-0.375939</td>\n",
       "      <td>-0.662138</td>\n",
       "      <td>-0.664962</td>\n",
       "      <td>-0.340741</td>\n",
       "      <td>...</td>\n",
       "      <td>-0.169520</td>\n",
       "      <td>-0.714689</td>\n",
       "      <td>0.375098</td>\n",
       "      <td>0.230305</td>\n",
       "      <td>0.045003</td>\n",
       "      <td>-0.026448</td>\n",
       "      <td>-0.136418</td>\n",
       "      <td>-0.239295</td>\n",
       "      <td>-0.400820</td>\n",
       "      <td>-0.313184</td>\n",
       "    </tr>\n",
       "    <tr>\n",
       "      <th>MBURv2_100002</th>\n",
       "      <td>-0.405649</td>\n",
       "      <td>-0.309960</td>\n",
       "      <td>-0.581343</td>\n",
       "      <td>-1.050033</td>\n",
       "      <td>-1.235838</td>\n",
       "      <td>-0.529028</td>\n",
       "      <td>-1.161497</td>\n",
       "      <td>-1.274654</td>\n",
       "      <td>-1.243865</td>\n",
       "      <td>-1.715639</td>\n",
       "      <td>...</td>\n",
       "      <td>-2.717254</td>\n",
       "      <td>-2.980653</td>\n",
       "      <td>-0.202880</td>\n",
       "      <td>-2.423929</td>\n",
       "      <td>-0.404706</td>\n",
       "      <td>-1.477967</td>\n",
       "      <td>-1.135770</td>\n",
       "      <td>-1.251409</td>\n",
       "      <td>-1.323482</td>\n",
       "      <td>-1.384361</td>\n",
       "    </tr>\n",
       "    <tr>\n",
       "      <th>MBURv2_10001</th>\n",
       "      <td>-0.349818</td>\n",
       "      <td>-0.432159</td>\n",
       "      <td>-0.748817</td>\n",
       "      <td>-1.126519</td>\n",
       "      <td>-1.176547</td>\n",
       "      <td>-0.974533</td>\n",
       "      <td>-1.157318</td>\n",
       "      <td>-1.812235</td>\n",
       "      <td>-1.774428</td>\n",
       "      <td>-1.724550</td>\n",
       "      <td>...</td>\n",
       "      <td>-2.819275</td>\n",
       "      <td>-2.497711</td>\n",
       "      <td>-1.428475</td>\n",
       "      <td>-1.240548</td>\n",
       "      <td>-1.345572</td>\n",
       "      <td>-1.410063</td>\n",
       "      <td>-2.228331</td>\n",
       "      <td>-1.943554</td>\n",
       "      <td>-2.684422</td>\n",
       "      <td>-2.403920</td>\n",
       "    </tr>\n",
       "    <tr>\n",
       "      <th>MBURv2_10002</th>\n",
       "      <td>-0.429268</td>\n",
       "      <td>0.644220</td>\n",
       "      <td>0.573052</td>\n",
       "      <td>0.232233</td>\n",
       "      <td>-0.060841</td>\n",
       "      <td>0.395560</td>\n",
       "      <td>-0.097191</td>\n",
       "      <td>-1.325059</td>\n",
       "      <td>-1.769956</td>\n",
       "      <td>-0.577714</td>\n",
       "      <td>...</td>\n",
       "      <td>0.187883</td>\n",
       "      <td>-0.253695</td>\n",
       "      <td>0.061458</td>\n",
       "      <td>-0.387287</td>\n",
       "      <td>0.545962</td>\n",
       "      <td>0.114193</td>\n",
       "      <td>-0.076866</td>\n",
       "      <td>-0.000965</td>\n",
       "      <td>-0.226299</td>\n",
       "      <td>-0.229278</td>\n",
       "    </tr>\n",
       "    <tr>\n",
       "      <th>MBURv2_10003</th>\n",
       "      <td>-0.475120</td>\n",
       "      <td>-0.160000</td>\n",
       "      <td>-0.398919</td>\n",
       "      <td>-0.153891</td>\n",
       "      <td>-0.364631</td>\n",
       "      <td>-0.543518</td>\n",
       "      <td>-0.403339</td>\n",
       "      <td>-1.106884</td>\n",
       "      <td>-1.116421</td>\n",
       "      <td>-0.932348</td>\n",
       "      <td>...</td>\n",
       "      <td>-0.737528</td>\n",
       "      <td>-1.391160</td>\n",
       "      <td>-0.835128</td>\n",
       "      <td>-1.039627</td>\n",
       "      <td>-0.662973</td>\n",
       "      <td>-0.845406</td>\n",
       "      <td>-1.228497</td>\n",
       "      <td>-1.149969</td>\n",
       "      <td>-1.464724</td>\n",
       "      <td>-1.412012</td>\n",
       "    </tr>\n",
       "  </tbody>\n",
       "</table>\n",
       "<p>5 rows × 40 columns</p>\n",
       "</div>"
      ],
      "text/plain": [
       "               FM18_CH3OH_4.1/day  FM18_CH3OH_4.1/day_R1  FM20_no-lim_5.2/day  \\\n",
       "locus_tag                                                                       \n",
       "MBURv2_100001            0.192390               0.399056             0.226044   \n",
       "MBURv2_100002           -0.405649              -0.309960            -0.581343   \n",
       "MBURv2_10001            -0.349818              -0.432159            -0.748817   \n",
       "MBURv2_10002            -0.429268               0.644220             0.573052   \n",
       "MBURv2_10003            -0.475120              -0.160000            -0.398919   \n",
       "\n",
       "               FM20_no-lim_5.2/day_R1  FM21_no-lim_5.4/day  \\\n",
       "locus_tag                                                    \n",
       "MBURv2_100001                0.031919            -0.259212   \n",
       "MBURv2_100002               -1.050033            -1.235838   \n",
       "MBURv2_10001                -1.126519            -1.176547   \n",
       "MBURv2_10002                 0.232233            -0.060841   \n",
       "MBURv2_10003                -0.153891            -0.364631   \n",
       "\n",
       "               FM21_no-lim_5.4/day_R1  FM21_no-lim_5.4/day_R2  \\\n",
       "locus_tag                                                       \n",
       "MBURv2_100001                0.024218               -0.375939   \n",
       "MBURv2_100002               -0.529028               -1.161497   \n",
       "MBURv2_10001                -0.974533               -1.157318   \n",
       "MBURv2_10002                 0.395560               -0.097191   \n",
       "MBURv2_10003                -0.543518               -0.403339   \n",
       "\n",
       "               FM12_CH4-lim_3.0/day  FM12_CH4-lim_3.0/day_R1  \\\n",
       "locus_tag                                                      \n",
       "MBURv2_100001             -0.662138                -0.664962   \n",
       "MBURv2_100002             -1.274654                -1.243865   \n",
       "MBURv2_10001              -1.812235                -1.774428   \n",
       "MBURv2_10002              -1.325059                -1.769956   \n",
       "MBURv2_10003              -1.106884                -1.116421   \n",
       "\n",
       "               FM14_CH4-lim_3.0/day           ...            \\\n",
       "locus_tag                                     ...             \n",
       "MBURv2_100001             -0.340741           ...             \n",
       "MBURv2_100002             -1.715639           ...             \n",
       "MBURv2_10001              -1.724550           ...             \n",
       "MBURv2_10002              -0.577714           ...             \n",
       "MBURv2_10003              -0.932348           ...             \n",
       "\n",
       "               FM34_+Cu_2.7/day_t480m  FM69_O2-lim+_0.7/day_t2  \\\n",
       "locus_tag                                                        \n",
       "MBURv2_100001               -0.169520                -0.714689   \n",
       "MBURv2_100002               -2.717254                -2.980653   \n",
       "MBURv2_10001                -2.819275                -2.497711   \n",
       "MBURv2_10002                 0.187883                -0.253695   \n",
       "MBURv2_10003                -0.737528                -1.391160   \n",
       "\n",
       "               FM69_?-lim_0.7/day_t3  FM69_?-lim_0.7/day_t3_R1  \\\n",
       "locus_tag                                                        \n",
       "MBURv2_100001               0.375098                  0.230305   \n",
       "MBURv2_100002              -0.202880                 -2.423929   \n",
       "MBURv2_10001               -1.428475                 -1.240548   \n",
       "MBURv2_10002                0.061458                 -0.387287   \n",
       "MBURv2_10003               -0.835128                 -1.039627   \n",
       "\n",
       "               FM69_?-lim_0.7/day_t4  FM69_?-lim_0.7/day_t4_R2  \\\n",
       "locus_tag                                                        \n",
       "MBURv2_100001               0.045003                 -0.026448   \n",
       "MBURv2_100002              -0.404706                 -1.477967   \n",
       "MBURv2_10001               -1.345572                 -1.410063   \n",
       "MBURv2_10002                0.545962                  0.114193   \n",
       "MBURv2_10003               -0.662973                 -0.845406   \n",
       "\n",
       "               FM80_O2-lim_0.7/day_t2  FM80_O2-lim_0.7/day_t4  \\\n",
       "locus_tag                                                       \n",
       "MBURv2_100001               -0.136418               -0.239295   \n",
       "MBURv2_100002               -1.135770               -1.251409   \n",
       "MBURv2_10001                -2.228331               -1.943554   \n",
       "MBURv2_10002                -0.076866               -0.000965   \n",
       "MBURv2_10003                -1.228497               -1.149969   \n",
       "\n",
       "               FM81_O2-lim+_0.7/day_t1  FM81_O2-lim_0.7/day_t2  \n",
       "locus_tag                                                       \n",
       "MBURv2_100001                -0.400820               -0.313184  \n",
       "MBURv2_100002                -1.323482               -1.384361  \n",
       "MBURv2_10001                 -2.684422               -2.403920  \n",
       "MBURv2_10002                 -0.226299               -0.229278  \n",
       "MBURv2_10003                 -1.464724               -1.412012  \n",
       "\n",
       "[5 rows x 40 columns]"
      ]
     },
     "execution_count": 3,
     "metadata": {},
     "output_type": "execute_result"
    }
   ],
   "source": [
    "df.head()"
   ]
  },
  {
   "cell_type": "markdown",
   "metadata": {},
   "source": [
    "### Cluster id"
   ]
  },
  {
   "cell_type": "code",
   "execution_count": null,
   "metadata": {
    "collapsed": true
   },
   "outputs": [],
   "source": [
    "def kmeans_cluster(gene):\n",
    "    \"\"\"\n",
    "\n",
    "    \"\"\"\n",
    "    X = df\n",
    "\n",
    "    kmeans = KMeans(n_clusters= 19 , max_iter=300, random_state=4) \n",
    "    kmeans.fit(X)\n",
    "    \n",
    "    labels_kmeans = kmeans.labels_\n",
    "    df_clusterid = pd.DataFrame(labels_kmeans, index = df.index)\n",
    "    df_clusterid.rename(columns = {0:\"cluster\"}, inplace = True)\n",
    "    df_clusters = pd.concat([df, df_clusterid], axis = 1)\n",
    "    \n",
    "    genes_clusterid = df_clusterid.loc[gene]\n",
    "    \n",
    "    return genes_clusterid "
   ]
  },
  {
   "cell_type": "code",
   "execution_count": null,
   "metadata": {
    "collapsed": true
   },
   "outputs": [],
   "source": [
    "kmeans_cluster('MBURv2_10007')"
   ]
  },
  {
   "cell_type": "code",
   "execution_count": null,
   "metadata": {
    "collapsed": true
   },
   "outputs": [],
   "source": []
  },
  {
   "cell_type": "markdown",
   "metadata": {},
   "source": [
    "### Cluster Overview"
   ]
  },
  {
   "cell_type": "markdown",
   "metadata": {},
   "source": [
    "**1. Cluster Size**"
   ]
  },
  {
   "cell_type": "code",
   "execution_count": null,
   "metadata": {
    "collapsed": true
   },
   "outputs": [],
   "source": [
    "def cluster_size(k):\n",
    "    \"\"\"\n",
    "\n",
    "    \"\"\"\n",
    "    X = df\n",
    "\n",
    "    kmeans = KMeans(n_clusters= k , max_iter=300, random_state=4) \n",
    "    kmeans.fit(X)\n",
    "    \n",
    "    labels_kmeans = kmeans.labels_\n",
    "    df_clusterid = pd.DataFrame(labels_kmeans, index = df.index)\n",
    "    df_clusterid.rename(columns = {0:\"cluster\"}, inplace = True)\n",
    "    df_clusters = pd.concat([df, df_clusterid], axis = 1)\n",
    "    \n",
    "    #genes_clusterid = df_clusterid.loc[gene]\n",
    "    \n",
    "    count = df_clusters.groupby('cluster').count().iloc[:,0]\n",
    "    \n",
    "    fig = plt.figure(figsize=(15, 10))\n",
    "\n",
    "    x_axis = list(count.index)\n",
    "    y = count.values\n",
    "\n",
    "    plt.bar(x_axis, y)\n",
    "\n",
    "    plt.xticks(list(range(k)),fontsize=14)\n",
    "    plt.xlabel('cluster id',fontsize=20)\n",
    "    plt.ylabel('number od genes in each cluster',fontsize=20)\n",
    "    plt.title('Cluster Size Overview',fontsize=24)\n",
    "   \n",
    "    return  plt.show()"
   ]
  },
  {
   "cell_type": "code",
   "execution_count": null,
   "metadata": {
    "collapsed": true
   },
   "outputs": [],
   "source": [
    "cluster_size(20)"
   ]
  },
  {
   "cell_type": "markdown",
   "metadata": {},
   "source": [
    "**2. Cluster Profile Overview**"
   ]
  },
  {
   "cell_type": "code",
   "execution_count": null,
   "metadata": {
    "collapsed": true
   },
   "outputs": [],
   "source": [
    "def draw_clust_means(k, n_rows, n_cols):\n",
    "    \"\"\"\n",
    "    Draw scatter plot of mean gene expression level for genes in that cluster.\n",
    "    Will include 1 standard deviation error margin within the plot. \n",
    "    Plot will be saves as pdf file. \n",
    "    \n",
    "    \n",
    "    k: k value in k-means clustering model\n",
    "    n_rows: int value for the subplot grid\n",
    "    n_cols: int value for subplot grid\n",
    "    \n",
    "    \"\"\"\n",
    "    \n",
    "    X = df\n",
    "\n",
    "    kmeans = KMeans(n_clusters= k , max_iter=300, random_state=4) \n",
    "    kmeans.fit(X)\n",
    "    \n",
    "    labels_kmeans = kmeans.labels_\n",
    "    df_clusterid = pd.DataFrame(labels_kmeans, index = df.index)\n",
    "    df_clusterid.rename(columns = {0:\"cluster\"}, inplace = True)\n",
    "    df_clusters = pd.concat([df, df_clusterid], axis = 1)\n",
    "    \n",
    "    count = df_clusters.groupby(\"cluster\").count().iloc[:,0]\n",
    "    \n",
    "    fig = plt.figure(figsize = (100, 50))\n",
    "    x_axis = list(range(len(df_clusters.columns)-1))\n",
    "    x_ticks = df_clusters.loc[:, df_clusters.columns != \"cluster\"]\n",
    "    \n",
    "    \n",
    "    y_stdev = df_clusters.groupby(\"cluster\").std()\n",
    "    y_mean = df_clusters.groupby(\"cluster\").mean()\n",
    "    \n",
    "    y_low = y_mean.subtract(y_stdev, fill_value=0)\n",
    "    y_high = y_mean.add(y_stdev, fill_value = 0)\n",
    "    \n",
    "    for i in range(y_mean.shape[0]):\n",
    "        y = y_mean.values[i]\n",
    "        y_hi = y_high.values[i]\n",
    "        y_lo = y_low.values[i]\n",
    "        \n",
    "        title_str = \"Cluster #\"+ str(i) + \"Profile Overview (including \" + str(count[i]) + \" genes)\"\n",
    "        \n",
    "        ax = fig.add_subplot(n_rows, n_cols, i+1)\n",
    "        ax.set_xticks(x_axis)\n",
    "        ax.set_xticklabels(x_ticks, rotation = \"vertical\")\n",
    "        ax.set_title(title_str)\n",
    "        ax.set_ylabel(\"Log2(Sample/CH3OH)\")\n",
    "        \n",
    "        ax.plot(x_axis, y, \"b-\")\n",
    "        ax.plot(x_axis, y_hi, \"b-\", alpha = 0.5)\n",
    "        ax.plot(x_axis, y_lo, \"b-\", alpha = 0.5 )\n",
    "        \n",
    "    fig.subplots_adjust(hspace = 2)\n",
    "    plt.show()\n",
    "    #fig.savefig(\"cluster_means.pdf\")"
   ]
  },
  {
   "cell_type": "code",
   "execution_count": null,
   "metadata": {
    "collapsed": true
   },
   "outputs": [],
   "source": [
    "draw_clust_means(15, 10, 6 )"
   ]
  },
  {
   "cell_type": "code",
   "execution_count": null,
   "metadata": {
    "collapsed": true
   },
   "outputs": [],
   "source": []
  },
  {
   "cell_type": "markdown",
   "metadata": {
    "collapsed": true
   },
   "source": [
    "### 3. Choose Optimal  K Value"
   ]
  },
  {
   "cell_type": "markdown",
   "metadata": {},
   "source": [
    "### Elbow Method"
   ]
  },
  {
   "cell_type": "code",
   "execution_count": null,
   "metadata": {
    "collapsed": true
   },
   "outputs": [],
   "source": [
    "from sklearn import metrics\n",
    "from scipy.spatial.distance import cdist, pdist"
   ]
  },
  {
   "cell_type": "code",
   "execution_count": null,
   "metadata": {
    "collapsed": true
   },
   "outputs": [],
   "source": [
    "def elbow_method_evaluation(n):\n",
    "    \"\"\"\n",
    "    n: the maximum of k value\n",
    "    \n",
    "    \"\"\"\n",
    "    # Fit the kmeans model for k in a certain range\n",
    "    K = range(1, n+1)\n",
    "    KM = [KMeans(n_clusters=k).fit(df) for k in K] \n",
    "    # Pull out the cluster centroid for each model \n",
    "    centroids = [k.cluster_centers_ for k in KM]\n",
    "    \n",
    "    # Calculate the distance between each data point and the centroid of its cluster\n",
    "    k_euclid = [cdist(df.values, cent, 'euclidean') for cent in centroids]\n",
    "    dist = [np.min(ke, axis=1) for ke in k_euclid]\n",
    "    \n",
    "    # Total within sum of square\n",
    "    wss = [sum(d**2)/1000 for d in dist]\n",
    "    # The total sum of square\n",
    "    tss = sum(pdist(df.values)**2)/df.values.shape[0]\n",
    "    # The between-clusters sum of square\n",
    "    bss = tss - wss\n",
    "    \n",
    "    # Difference of sum of within cluster distance to next smaller k\n",
    "    dwss = [wss[i+1] - wss[i] for i in range(len(wss)-1)]\n",
    "    dwss.insert(0, 0)\n",
    "    \n",
    "    # elbow curve\n",
    "    fig = plt.figure(figsize=(10,12))\n",
    "    ax1 = fig.add_subplot(211)\n",
    "    ax1.plot(K, wss, 'bo-')\n",
    "    ax1.set_xlabel('K Value', fontsize = 10)\n",
    "    ax1.set_ylabel('Sum of Within-cluster Distance/1000', fontsize = 10)\n",
    "    \n",
    "    ax2 = fig.add_subplot(212)\n",
    "    ax2.plot(K,dwss, 'bo-')\n",
    "    ax2.set_xlabel('K Value', fontsize = 10)\n",
    "    ax2.set_ylabel('Difference of sum of within cluster distance to next smaller k/1000', fontsize = 10)\n",
    "    #plt.title('Elbow Analysis', fontsize = 15)\n",
    "    plt.show()"
   ]
  },
  {
   "cell_type": "code",
   "execution_count": null,
   "metadata": {
    "scrolled": false
   },
   "outputs": [],
   "source": [
    "start = time.time()\n",
    "\n",
    "elbow_method_evaluation(30)\n",
    "\n",
    "end = time.time()\n",
    "print('Running Time is ', (end - start),'s')"
   ]
  },
  {
   "cell_type": "code",
   "execution_count": null,
   "metadata": {
    "collapsed": true
   },
   "outputs": [],
   "source": []
  },
  {
   "cell_type": "markdown",
   "metadata": {},
   "source": [
    "### Silhouette Analysis"
   ]
  },
  {
   "cell_type": "code",
   "execution_count": 48,
   "metadata": {
    "collapsed": true
   },
   "outputs": [],
   "source": [
    "from sklearn.metrics import silhouette_score\n",
    "from sklearn.metrics import silhouette_samples\n",
    "from sklearn.cluster import KMeans"
   ]
  },
  {
   "cell_type": "code",
   "execution_count": 41,
   "metadata": {},
   "outputs": [
    {
     "name": "stdout",
     "output_type": "stream",
     "text": [
      "2.0 <class 'numpy.ndarray'>\n",
      "3.0 <class 'numpy.ndarray'>\n",
      "4.0 <class 'numpy.ndarray'>\n",
      "5.0 <class 'numpy.ndarray'>\n"
     ]
    }
   ],
   "source": [
    "k_values = np.array([])\n",
    "silhouette_scores = np.array([])\n",
    "K = range(2,6)\n",
    "for i in K:\n",
    "    k_values = np.append(k_values,[i])\n",
    "    print(k_values[-1], type(k_values))"
   ]
  },
  {
   "cell_type": "code",
   "execution_count": 42,
   "metadata": {},
   "outputs": [
    {
     "data": {
      "text/plain": [
       "array([ 2.,  3.,  4.,  5.])"
      ]
     },
     "execution_count": 42,
     "metadata": {},
     "output_type": "execute_result"
    }
   ],
   "source": [
    "k_values"
   ]
  },
  {
   "cell_type": "code",
   "execution_count": 43,
   "metadata": {
    "collapsed": true
   },
   "outputs": [],
   "source": [
    "K = range(2, 6)"
   ]
  },
  {
   "cell_type": "code",
   "execution_count": 45,
   "metadata": {
    "collapsed": true
   },
   "outputs": [
    {
     "ename": "TypeError",
     "evalue": "only integer scalar arrays can be converted to a scalar index",
     "output_type": "error",
     "traceback": [
      "\u001b[0;31m---------------------------------------------------------------------------\u001b[0m",
      "\u001b[0;31mTypeError\u001b[0m                                 Traceback (most recent call last)",
      "\u001b[0;32m<ipython-input-45-39fed7c0c12f>\u001b[0m in \u001b[0;36m<module>\u001b[0;34m()\u001b[0m\n\u001b[1;32m      4\u001b[0m     \u001b[0mkmeans\u001b[0m\u001b[0;34m.\u001b[0m\u001b[0mfit\u001b[0m\u001b[0;34m(\u001b[0m\u001b[0mdf\u001b[0m\u001b[0;34m)\u001b[0m\u001b[0;34m\u001b[0m\u001b[0m\n\u001b[1;32m      5\u001b[0m     \u001b[0;31m#Silhouette score for every k computed\u001b[0m\u001b[0;34m\u001b[0m\u001b[0;34m\u001b[0m\u001b[0m\n\u001b[0;32m----> 6\u001b[0;31m     \u001b[0msilhouette_avg\u001b[0m \u001b[0;34m=\u001b[0m \u001b[0msilhouette_score\u001b[0m\u001b[0;34m(\u001b[0m\u001b[0mdf\u001b[0m\u001b[0;34m.\u001b[0m\u001b[0mvalues\u001b[0m\u001b[0;34m,\u001b[0m \u001b[0mkmeans\u001b[0m\u001b[0;34m.\u001b[0m\u001b[0mlabels_\u001b[0m\u001b[0;34m)\u001b[0m\u001b[0;34m\u001b[0m\u001b[0m\n\u001b[0m\u001b[1;32m      7\u001b[0m     \u001b[0;31m#x and y axis to plot k value and silhouette score\u001b[0m\u001b[0;34m\u001b[0m\u001b[0;34m\u001b[0m\u001b[0m\n\u001b[1;32m      8\u001b[0m     \u001b[0mk_values\u001b[0m \u001b[0;34m=\u001b[0m \u001b[0mnp\u001b[0m\u001b[0;34m.\u001b[0m\u001b[0mappend\u001b[0m\u001b[0;34m(\u001b[0m\u001b[0mk_values\u001b[0m\u001b[0;34m,\u001b[0m \u001b[0;34m[\u001b[0m\u001b[0mi\u001b[0m\u001b[0;34m]\u001b[0m\u001b[0;34m)\u001b[0m\u001b[0;34m\u001b[0m\u001b[0m\n",
      "\u001b[0;32m<ipython-input-7-0c41b4dcc306>\u001b[0m in \u001b[0;36msilhouette_score\u001b[0;34m(df, k)\u001b[0m\n\u001b[1;32m     10\u001b[0m     \u001b[0;31m#silhouette_scores = []\u001b[0m\u001b[0;34m\u001b[0m\u001b[0;34m\u001b[0m\u001b[0m\n\u001b[1;32m     11\u001b[0m \u001b[0;34m\u001b[0m\u001b[0m\n\u001b[0;32m---> 12\u001b[0;31m     \u001b[0mK\u001b[0m \u001b[0;34m=\u001b[0m \u001b[0mrange\u001b[0m\u001b[0;34m(\u001b[0m\u001b[0;36m2\u001b[0m\u001b[0;34m,\u001b[0m \u001b[0mk\u001b[0m\u001b[0;34m+\u001b[0m\u001b[0;36m1\u001b[0m\u001b[0;34m)\u001b[0m\u001b[0;34m\u001b[0m\u001b[0m\n\u001b[0m\u001b[1;32m     13\u001b[0m \u001b[0;34m\u001b[0m\u001b[0m\n\u001b[1;32m     14\u001b[0m     \u001b[0;32mfor\u001b[0m \u001b[0mi\u001b[0m \u001b[0;32min\u001b[0m \u001b[0mK\u001b[0m\u001b[0;34m:\u001b[0m\u001b[0;34m\u001b[0m\u001b[0m\n",
      "\u001b[0;31mTypeError\u001b[0m: only integer scalar arrays can be converted to a scalar index"
     ]
    },
    {
     "data": {
      "image/png": "[encoded data removed]",
      "text/plain": [
       "<matplotlib.figure.Figure at 0x115451978>"
      ]
     },
     "metadata": {},
     "output_type": "display_data"
    }
   ],
   "source": [
    "for i in K:\n",
    "    #K-means for range of clusters \n",
    "    kmeans = KMeans(n_clusters=i, max_iter=300, random_state=3) \n",
    "    kmeans.fit(df)\n",
    "    #Silhouette score for every k computed\n",
    "    silhouette_avg = silhouette_score(df.values, kmeans.labels_)\n",
    "    #x and y axis to plot k value and silhouette score \n",
    "    k_values = np.append(k_values, [i])\n",
    "    silhouette_scores = np.append(silhouette_scores, [silhouette_avg])\n",
    "    print(k_values,silhouette_scores)\n",
    "    #k_values.append(k)"
   ]
  },
  {
   "cell_type": "code",
   "execution_count": 51,
   "metadata": {
    "collapsed": true
   },
   "outputs": [],
   "source": [
    "km1 = KMeans(n_clusters=3, max_iter=300, random_state=3) "
   ]
  },
  {
   "cell_type": "code",
   "execution_count": 52,
   "metadata": {},
   "outputs": [
    {
     "data": {
      "text/plain": [
       "KMeans(algorithm='auto', copy_x=True, init='k-means++', max_iter=300,\n",
       "    n_clusters=3, n_init=10, n_jobs=1, precompute_distances='auto',\n",
       "    random_state=3, tol=0.0001, verbose=0)"
      ]
     },
     "execution_count": 52,
     "metadata": {},
     "output_type": "execute_result"
    }
   ],
   "source": [
    "km1.fit(df)"
   ]
  },
  {
   "cell_type": "code",
   "execution_count": null,
   "metadata": {
    "collapsed": true
   },
   "outputs": [],
   "source": []
  },
  {
   "cell_type": "code",
   "execution_count": 59,
   "metadata": {},
   "outputs": [],
   "source": [
    "a_result = silhouette_samples(df, km1.labels_, metric='euclidean')"
   ]
  },
  {
   "cell_type": "code",
   "execution_count": 60,
   "metadata": {},
   "outputs": [
    {
     "data": {
      "text/plain": [
       "0.31633684672186979"
      ]
     },
     "execution_count": 60,
     "metadata": {},
     "output_type": "execute_result"
    }
   ],
   "source": [
    "np.mean(a_result)"
   ]
  },
  {
   "cell_type": "code",
   "execution_count": null,
   "metadata": {
    "collapsed": true
   },
   "outputs": [],
   "source": []
  },
  {
   "cell_type": "code",
   "execution_count": 9,
   "metadata": {
    "collapsed": true
   },
   "outputs": [],
   "source": [
    "def silhouette_analysis(df,k):\n",
    "\n",
    "    fig = plt.figure()\n",
    "    ax = fig.add_subplot(111)\n",
    "    \n",
    "    k_values = np.array([])\n",
    "    silhouette_scores = np.array([])\n",
    "    \n",
    "    #k_values = []\n",
    "    #silhouette_scores = []\n",
    "\n",
    "    K = range(2, k+1)\n",
    "\n",
    "    for i in K:\n",
    "        #K-means for range of clusters \n",
    "        kmeans = KMeans(n_clusters=i, max_iter=300, random_state=3) \n",
    "        kmeans.fit(df)\n",
    "        #labels_kmeans = kmeans.labels_\n",
    "        #Silhouette score for every k computed\n",
    "        silhouette_ave = silhouette_score(df.values, kmeans.labels_，metric='euclidean')\n",
    "    \n",
    "        #x and y axis to plot k value and silhouette score \n",
    "        k_values = np.append(k_values, [int(i)])\n",
    "        silhouette_scores = np.append(silhouette_scores, [silhouette_ave])\n",
    "        #k_values.append(k)\n",
    "        #silhouette_scores.append(silhouette_ave)\n",
    "    \n",
    "    ax.set_ylabel(\"Silhouette coefficient\", fontsize = 10)\n",
    "    ax.set_xlabel(\"K\", fontsize = 10)\n",
    "    ax.set_title(\"Silhouette Analysis\", fontsize = 15)\n",
    "    \n",
    "    plt.plot(k_values, silhouette_scores, \"bo\")"
   ]
  },
  {
   "cell_type": "code",
   "execution_count": 10,
   "metadata": {},
   "outputs": [
    {
     "ename": "TypeError",
     "evalue": "only integer scalar arrays can be converted to a scalar index",
     "output_type": "error",
     "traceback": [
      "\u001b[0;31m---------------------------------------------------------------------------\u001b[0m",
      "\u001b[0;31mTypeError\u001b[0m                                 Traceback (most recent call last)",
      "\u001b[0;32m<ipython-input-10-3c213d7e35b9>\u001b[0m in \u001b[0;36m<module>\u001b[0;34m()\u001b[0m\n\u001b[1;32m      1\u001b[0m \u001b[0mstart\u001b[0m \u001b[0;34m=\u001b[0m \u001b[0mtime\u001b[0m\u001b[0;34m.\u001b[0m\u001b[0mtime\u001b[0m\u001b[0;34m(\u001b[0m\u001b[0;34m)\u001b[0m\u001b[0;34m\u001b[0m\u001b[0m\n\u001b[1;32m      2\u001b[0m \u001b[0;34m\u001b[0m\u001b[0m\n\u001b[0;32m----> 3\u001b[0;31m \u001b[0msilhouette_analysis\u001b[0m\u001b[0;34m(\u001b[0m\u001b[0mdf\u001b[0m\u001b[0;34m,\u001b[0m\u001b[0;36m5\u001b[0m\u001b[0;34m)\u001b[0m\u001b[0;34m\u001b[0m\u001b[0m\n\u001b[0m\u001b[1;32m      4\u001b[0m \u001b[0;34m\u001b[0m\u001b[0m\n\u001b[1;32m      5\u001b[0m \u001b[0mend\u001b[0m \u001b[0;34m=\u001b[0m \u001b[0mtime\u001b[0m\u001b[0;34m.\u001b[0m\u001b[0mtime\u001b[0m\u001b[0;34m(\u001b[0m\u001b[0;34m)\u001b[0m\u001b[0;34m\u001b[0m\u001b[0m\n",
      "\u001b[0;32m<ipython-input-9-f710ac624aa5>\u001b[0m in \u001b[0;36msilhouette_analysis\u001b[0;34m(df, k)\u001b[0m\n\u001b[1;32m     18\u001b[0m         \u001b[0mlabels_kmeans\u001b[0m \u001b[0;34m=\u001b[0m \u001b[0mkmeans\u001b[0m\u001b[0;34m.\u001b[0m\u001b[0mlabels_\u001b[0m\u001b[0;34m\u001b[0m\u001b[0m\n\u001b[1;32m     19\u001b[0m         \u001b[0;31m#Silhouette score for every k computed\u001b[0m\u001b[0;34m\u001b[0m\u001b[0;34m\u001b[0m\u001b[0m\n\u001b[0;32m---> 20\u001b[0;31m         \u001b[0msilhouette_ave\u001b[0m \u001b[0;34m=\u001b[0m \u001b[0msilhouette_score\u001b[0m\u001b[0;34m(\u001b[0m\u001b[0mdf\u001b[0m\u001b[0;34m.\u001b[0m\u001b[0mvalues\u001b[0m\u001b[0;34m,\u001b[0m \u001b[0mlabels_kmeans\u001b[0m\u001b[0;34m)\u001b[0m\u001b[0;34m\u001b[0m\u001b[0m\n\u001b[0m\u001b[1;32m     21\u001b[0m \u001b[0;34m\u001b[0m\u001b[0m\n\u001b[1;32m     22\u001b[0m         \u001b[0;31m#x and y axis to plot k value and silhouette score\u001b[0m\u001b[0;34m\u001b[0m\u001b[0;34m\u001b[0m\u001b[0m\n",
      "\u001b[0;32m<ipython-input-7-0c41b4dcc306>\u001b[0m in \u001b[0;36msilhouette_score\u001b[0;34m(df, k)\u001b[0m\n\u001b[1;32m     10\u001b[0m     \u001b[0;31m#silhouette_scores = []\u001b[0m\u001b[0;34m\u001b[0m\u001b[0;34m\u001b[0m\u001b[0m\n\u001b[1;32m     11\u001b[0m \u001b[0;34m\u001b[0m\u001b[0m\n\u001b[0;32m---> 12\u001b[0;31m     \u001b[0mK\u001b[0m \u001b[0;34m=\u001b[0m \u001b[0mrange\u001b[0m\u001b[0;34m(\u001b[0m\u001b[0;36m2\u001b[0m\u001b[0;34m,\u001b[0m \u001b[0mk\u001b[0m\u001b[0;34m+\u001b[0m\u001b[0;36m1\u001b[0m\u001b[0;34m)\u001b[0m\u001b[0;34m\u001b[0m\u001b[0m\n\u001b[0m\u001b[1;32m     13\u001b[0m \u001b[0;34m\u001b[0m\u001b[0m\n\u001b[1;32m     14\u001b[0m     \u001b[0;32mfor\u001b[0m \u001b[0mi\u001b[0m \u001b[0;32min\u001b[0m \u001b[0mK\u001b[0m\u001b[0;34m:\u001b[0m\u001b[0;34m\u001b[0m\u001b[0m\n",
      "\u001b[0;31mTypeError\u001b[0m: only integer scalar arrays can be converted to a scalar index"
     ]
    },
    {
     "data": {
      "image/png": "[encoded data removed]",
      "text/plain": [
       "<matplotlib.figure.Figure at 0x114f90b00>"
      ]
     },
     "metadata": {},
     "output_type": "display_data"
    },
    {
     "data": {
      "image/png": "[encoded data removed]",
      "text/plain": [
       "<matplotlib.figure.Figure at 0x115058128>"
      ]
     },
     "metadata": {},
     "output_type": "display_data"
    }
   ],
   "source": [
    "start = time.time()\n",
    "\n",
    "silhouette_analysis(df,5)\n",
    "\n",
    "end = time.time()\n",
    "print('Running Time is ', (end - start),'s')"
   ]
  },
  {
   "cell_type": "code",
   "execution_count": null,
   "metadata": {
    "collapsed": true
   },
   "outputs": [],
   "source": [
    "a = range(2, 30)\n",
    "for i in a:\n",
    "    print(i, type(i))"
   ]
  },
  {
   "cell_type": "code",
   "execution_count": 26,
   "metadata": {
    "collapsed": true
   },
   "outputs": [],
   "source": [
    "i=np.arange(1,4,dtype=np.int)"
   ]
  },
  {
   "cell_type": "code",
   "execution_count": 28,
   "metadata": {
    "collapsed": true
   },
   "outputs": [],
   "source": [
    "a=np.arange(9).reshape(3,3)"
   ]
  },
  {
   "cell_type": "code",
   "execution_count": 29,
   "metadata": {},
   "outputs": [
    {
     "data": {
      "text/plain": [
       "array([[0, 1, 2],\n",
       "       [3, 4, 5],\n",
       "       [6, 7, 8]])"
      ]
     },
     "execution_count": 29,
     "metadata": {},
     "output_type": "execute_result"
    }
   ],
   "source": [
    "a"
   ]
  },
  {
   "cell_type": "code",
   "execution_count": 32,
   "metadata": {},
   "outputs": [
    {
     "data": {
      "text/plain": [
       "array([[0, 1, 2],\n",
       "       [3, 4, 5],\n",
       "       [6, 7, 8]])"
      ]
     },
     "execution_count": 32,
     "metadata": {},
     "output_type": "execute_result"
    }
   ],
   "source": [
    "a[:,:]"
   ]
  },
  {
   "cell_type": "code",
   "execution_count": null,
   "metadata": {
    "collapsed": true
   },
   "outputs": [],
   "source": []
  }
 ],
 "metadata": {
  "kernelspec": {
   "display_name": "Python 3",
   "language": "python",
   "name": "python3"
  },
  "language_info": {
   "codemirror_mode": {
    "name": "ipython",
    "version": 3
   },
   "file_extension": ".py",
   "mimetype": "text/x-python",
   "name": "python",
   "nbconvert_exporter": "python",
   "pygments_lexer": "ipython3",
   "version": "3.6.1"
  }
 },
 "nbformat": 4,
 "nbformat_minor": 2
}
