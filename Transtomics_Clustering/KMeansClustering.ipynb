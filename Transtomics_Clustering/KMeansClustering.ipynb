{
 "cells": [
  {
   "cell_type": "code",
   "execution_count": 84,
   "metadata": {
    "collapsed": true
   },
   "outputs": [],
   "source": [
    "import pandas as pd\n",
    "import numpy as np\n",
    "\n",
    "import dash\n",
    "import dash_core_components as dcc\n",
    "import dash_html_components as html\n",
    "\n",
    "import matplotlib.pyplot as plt \n",
    "%matplotlib inline\n",
    "\n",
    "from sklearn.cluster import KMeans"
   ]
  },
  {
   "cell_type": "code",
   "execution_count": 2,
   "metadata": {
    "collapsed": true
   },
   "outputs": [],
   "source": [
    "df = pd.read_csv('df5_log2_ratio.csv', index_col = ['locus_tag'])"
   ]
  },
  {
   "cell_type": "code",
   "execution_count": 3,
   "metadata": {},
   "outputs": [
    {
     "data": {
      "text/html": [
       "<div>\n",
       "<style>\n",
       "    .dataframe thead tr:only-child th {\n",
       "        text-align: right;\n",
       "    }\n",
       "\n",
       "    .dataframe thead th {\n",
       "        text-align: left;\n",
       "    }\n",
       "\n",
       "    .dataframe tbody tr th {\n",
       "        vertical-align: top;\n",
       "    }\n",
       "</style>\n",
       "<table border=\"1\" class=\"dataframe\">\n",
       "  <thead>\n",
       "    <tr style=\"text-align: right;\">\n",
       "      <th></th>\n",
       "      <th>FM18_CH3OH_4.1/day</th>\n",
       "      <th>FM18_CH3OH_4.1/day_R1</th>\n",
       "      <th>FM20_no-lim_5.2/day</th>\n",
       "      <th>FM20_no-lim_5.2/day_R1</th>\n",
       "      <th>FM21_no-lim_5.4/day</th>\n",
       "      <th>FM21_no-lim_5.4/day_R1</th>\n",
       "      <th>FM21_no-lim_5.4/day_R2</th>\n",
       "      <th>FM12_CH4-lim_3.0/day</th>\n",
       "      <th>FM12_CH4-lim_3.0/day_R1</th>\n",
       "      <th>FM14_CH4-lim_3.0/day</th>\n",
       "      <th>...</th>\n",
       "      <th>FM34_+Cu_2.7/day_t480m</th>\n",
       "      <th>FM69_O2-lim+_0.7/day_t2</th>\n",
       "      <th>FM69_?-lim_0.7/day_t3</th>\n",
       "      <th>FM69_?-lim_0.7/day_t3_R1</th>\n",
       "      <th>FM69_?-lim_0.7/day_t4</th>\n",
       "      <th>FM69_?-lim_0.7/day_t4_R2</th>\n",
       "      <th>FM80_O2-lim_0.7/day_t2</th>\n",
       "      <th>FM80_O2-lim_0.7/day_t4</th>\n",
       "      <th>FM81_O2-lim+_0.7/day_t1</th>\n",
       "      <th>FM81_O2-lim_0.7/day_t2</th>\n",
       "    </tr>\n",
       "    <tr>\n",
       "      <th>locus_tag</th>\n",
       "      <th></th>\n",
       "      <th></th>\n",
       "      <th></th>\n",
       "      <th></th>\n",
       "      <th></th>\n",
       "      <th></th>\n",
       "      <th></th>\n",
       "      <th></th>\n",
       "      <th></th>\n",
       "      <th></th>\n",
       "      <th></th>\n",
       "      <th></th>\n",
       "      <th></th>\n",
       "      <th></th>\n",
       "      <th></th>\n",
       "      <th></th>\n",
       "      <th></th>\n",
       "      <th></th>\n",
       "      <th></th>\n",
       "      <th></th>\n",
       "      <th></th>\n",
       "    </tr>\n",
       "  </thead>\n",
       "  <tbody>\n",
       "    <tr>\n",
       "      <th>MBURv2_100001</th>\n",
       "      <td>0.192390</td>\n",
       "      <td>0.399056</td>\n",
       "      <td>0.226044</td>\n",
       "      <td>0.031919</td>\n",
       "      <td>-0.259212</td>\n",
       "      <td>0.024218</td>\n",
       "      <td>-0.375939</td>\n",
       "      <td>-0.662138</td>\n",
       "      <td>-0.664962</td>\n",
       "      <td>-0.340741</td>\n",
       "      <td>...</td>\n",
       "      <td>-0.169520</td>\n",
       "      <td>-0.714689</td>\n",
       "      <td>0.375098</td>\n",
       "      <td>0.230305</td>\n",
       "      <td>0.045003</td>\n",
       "      <td>-0.026448</td>\n",
       "      <td>-0.136418</td>\n",
       "      <td>-0.239295</td>\n",
       "      <td>-0.400820</td>\n",
       "      <td>-0.313184</td>\n",
       "    </tr>\n",
       "    <tr>\n",
       "      <th>MBURv2_100002</th>\n",
       "      <td>-0.405649</td>\n",
       "      <td>-0.309960</td>\n",
       "      <td>-0.581343</td>\n",
       "      <td>-1.050033</td>\n",
       "      <td>-1.235838</td>\n",
       "      <td>-0.529028</td>\n",
       "      <td>-1.161497</td>\n",
       "      <td>-1.274654</td>\n",
       "      <td>-1.243865</td>\n",
       "      <td>-1.715639</td>\n",
       "      <td>...</td>\n",
       "      <td>-2.717254</td>\n",
       "      <td>-2.980653</td>\n",
       "      <td>-0.202880</td>\n",
       "      <td>-2.423929</td>\n",
       "      <td>-0.404706</td>\n",
       "      <td>-1.477967</td>\n",
       "      <td>-1.135770</td>\n",
       "      <td>-1.251409</td>\n",
       "      <td>-1.323482</td>\n",
       "      <td>-1.384361</td>\n",
       "    </tr>\n",
       "    <tr>\n",
       "      <th>MBURv2_10001</th>\n",
       "      <td>-0.349818</td>\n",
       "      <td>-0.432159</td>\n",
       "      <td>-0.748817</td>\n",
       "      <td>-1.126519</td>\n",
       "      <td>-1.176547</td>\n",
       "      <td>-0.974533</td>\n",
       "      <td>-1.157318</td>\n",
       "      <td>-1.812235</td>\n",
       "      <td>-1.774428</td>\n",
       "      <td>-1.724550</td>\n",
       "      <td>...</td>\n",
       "      <td>-2.819275</td>\n",
       "      <td>-2.497711</td>\n",
       "      <td>-1.428475</td>\n",
       "      <td>-1.240548</td>\n",
       "      <td>-1.345572</td>\n",
       "      <td>-1.410063</td>\n",
       "      <td>-2.228331</td>\n",
       "      <td>-1.943554</td>\n",
       "      <td>-2.684422</td>\n",
       "      <td>-2.403920</td>\n",
       "    </tr>\n",
       "    <tr>\n",
       "      <th>MBURv2_10002</th>\n",
       "      <td>-0.429268</td>\n",
       "      <td>0.644220</td>\n",
       "      <td>0.573052</td>\n",
       "      <td>0.232233</td>\n",
       "      <td>-0.060841</td>\n",
       "      <td>0.395560</td>\n",
       "      <td>-0.097191</td>\n",
       "      <td>-1.325059</td>\n",
       "      <td>-1.769956</td>\n",
       "      <td>-0.577714</td>\n",
       "      <td>...</td>\n",
       "      <td>0.187883</td>\n",
       "      <td>-0.253695</td>\n",
       "      <td>0.061458</td>\n",
       "      <td>-0.387287</td>\n",
       "      <td>0.545962</td>\n",
       "      <td>0.114193</td>\n",
       "      <td>-0.076866</td>\n",
       "      <td>-0.000965</td>\n",
       "      <td>-0.226299</td>\n",
       "      <td>-0.229278</td>\n",
       "    </tr>\n",
       "    <tr>\n",
       "      <th>MBURv2_10003</th>\n",
       "      <td>-0.475120</td>\n",
       "      <td>-0.160000</td>\n",
       "      <td>-0.398919</td>\n",
       "      <td>-0.153891</td>\n",
       "      <td>-0.364631</td>\n",
       "      <td>-0.543518</td>\n",
       "      <td>-0.403339</td>\n",
       "      <td>-1.106884</td>\n",
       "      <td>-1.116421</td>\n",
       "      <td>-0.932348</td>\n",
       "      <td>...</td>\n",
       "      <td>-0.737528</td>\n",
       "      <td>-1.391160</td>\n",
       "      <td>-0.835128</td>\n",
       "      <td>-1.039627</td>\n",
       "      <td>-0.662973</td>\n",
       "      <td>-0.845406</td>\n",
       "      <td>-1.228497</td>\n",
       "      <td>-1.149969</td>\n",
       "      <td>-1.464724</td>\n",
       "      <td>-1.412012</td>\n",
       "    </tr>\n",
       "  </tbody>\n",
       "</table>\n",
       "<p>5 rows × 40 columns</p>\n",
       "</div>"
      ],
      "text/plain": [
       "               FM18_CH3OH_4.1/day  FM18_CH3OH_4.1/day_R1  FM20_no-lim_5.2/day  \\\n",
       "locus_tag                                                                       \n",
       "MBURv2_100001            0.192390               0.399056             0.226044   \n",
       "MBURv2_100002           -0.405649              -0.309960            -0.581343   \n",
       "MBURv2_10001            -0.349818              -0.432159            -0.748817   \n",
       "MBURv2_10002            -0.429268               0.644220             0.573052   \n",
       "MBURv2_10003            -0.475120              -0.160000            -0.398919   \n",
       "\n",
       "               FM20_no-lim_5.2/day_R1  FM21_no-lim_5.4/day  \\\n",
       "locus_tag                                                    \n",
       "MBURv2_100001                0.031919            -0.259212   \n",
       "MBURv2_100002               -1.050033            -1.235838   \n",
       "MBURv2_10001                -1.126519            -1.176547   \n",
       "MBURv2_10002                 0.232233            -0.060841   \n",
       "MBURv2_10003                -0.153891            -0.364631   \n",
       "\n",
       "               FM21_no-lim_5.4/day_R1  FM21_no-lim_5.4/day_R2  \\\n",
       "locus_tag                                                       \n",
       "MBURv2_100001                0.024218               -0.375939   \n",
       "MBURv2_100002               -0.529028               -1.161497   \n",
       "MBURv2_10001                -0.974533               -1.157318   \n",
       "MBURv2_10002                 0.395560               -0.097191   \n",
       "MBURv2_10003                -0.543518               -0.403339   \n",
       "\n",
       "               FM12_CH4-lim_3.0/day  FM12_CH4-lim_3.0/day_R1  \\\n",
       "locus_tag                                                      \n",
       "MBURv2_100001             -0.662138                -0.664962   \n",
       "MBURv2_100002             -1.274654                -1.243865   \n",
       "MBURv2_10001              -1.812235                -1.774428   \n",
       "MBURv2_10002              -1.325059                -1.769956   \n",
       "MBURv2_10003              -1.106884                -1.116421   \n",
       "\n",
       "               FM14_CH4-lim_3.0/day           ...            \\\n",
       "locus_tag                                     ...             \n",
       "MBURv2_100001             -0.340741           ...             \n",
       "MBURv2_100002             -1.715639           ...             \n",
       "MBURv2_10001              -1.724550           ...             \n",
       "MBURv2_10002              -0.577714           ...             \n",
       "MBURv2_10003              -0.932348           ...             \n",
       "\n",
       "               FM34_+Cu_2.7/day_t480m  FM69_O2-lim+_0.7/day_t2  \\\n",
       "locus_tag                                                        \n",
       "MBURv2_100001               -0.169520                -0.714689   \n",
       "MBURv2_100002               -2.717254                -2.980653   \n",
       "MBURv2_10001                -2.819275                -2.497711   \n",
       "MBURv2_10002                 0.187883                -0.253695   \n",
       "MBURv2_10003                -0.737528                -1.391160   \n",
       "\n",
       "               FM69_?-lim_0.7/day_t3  FM69_?-lim_0.7/day_t3_R1  \\\n",
       "locus_tag                                                        \n",
       "MBURv2_100001               0.375098                  0.230305   \n",
       "MBURv2_100002              -0.202880                 -2.423929   \n",
       "MBURv2_10001               -1.428475                 -1.240548   \n",
       "MBURv2_10002                0.061458                 -0.387287   \n",
       "MBURv2_10003               -0.835128                 -1.039627   \n",
       "\n",
       "               FM69_?-lim_0.7/day_t4  FM69_?-lim_0.7/day_t4_R2  \\\n",
       "locus_tag                                                        \n",
       "MBURv2_100001               0.045003                 -0.026448   \n",
       "MBURv2_100002              -0.404706                 -1.477967   \n",
       "MBURv2_10001               -1.345572                 -1.410063   \n",
       "MBURv2_10002                0.545962                  0.114193   \n",
       "MBURv2_10003               -0.662973                 -0.845406   \n",
       "\n",
       "               FM80_O2-lim_0.7/day_t2  FM80_O2-lim_0.7/day_t4  \\\n",
       "locus_tag                                                       \n",
       "MBURv2_100001               -0.136418               -0.239295   \n",
       "MBURv2_100002               -1.135770               -1.251409   \n",
       "MBURv2_10001                -2.228331               -1.943554   \n",
       "MBURv2_10002                -0.076866               -0.000965   \n",
       "MBURv2_10003                -1.228497               -1.149969   \n",
       "\n",
       "               FM81_O2-lim+_0.7/day_t1  FM81_O2-lim_0.7/day_t2  \n",
       "locus_tag                                                       \n",
       "MBURv2_100001                -0.400820               -0.313184  \n",
       "MBURv2_100002                -1.323482               -1.384361  \n",
       "MBURv2_10001                 -2.684422               -2.403920  \n",
       "MBURv2_10002                 -0.226299               -0.229278  \n",
       "MBURv2_10003                 -1.464724               -1.412012  \n",
       "\n",
       "[5 rows x 40 columns]"
      ]
     },
     "execution_count": 3,
     "metadata": {},
     "output_type": "execute_result"
    }
   ],
   "source": [
    "df.head()"
   ]
  },
  {
   "cell_type": "markdown",
   "metadata": {},
   "source": [
    "### Cluster id"
   ]
  },
  {
   "cell_type": "code",
   "execution_count": 4,
   "metadata": {
    "collapsed": true
   },
   "outputs": [],
   "source": []
  },
  {
   "cell_type": "code",
   "execution_count": 31,
   "metadata": {},
   "outputs": [],
   "source": [
    "def kmeans_cluster(gene):\n",
    "    \"\"\"\n",
    "\n",
    "    \"\"\"\n",
    "    X = df\n",
    "\n",
    "    kmeans = KMeans(n_clusters= 19 , max_iter=300, random_state=4) \n",
    "    kmeans.fit(X)\n",
    "    \n",
    "    labels_kmeans = kmeans.labels_\n",
    "    df_clusterid = pd.DataFrame(labels_kmeans, index = df.index)\n",
    "    df_clusterid.rename(columns = {0:\"cluster\"}, inplace = True)\n",
    "    df_clusters = pd.concat([df, df_clusterid], axis = 1)\n",
    "    \n",
    "    genes_clusterid = df_clusterid.loc[gene]\n",
    "    \n",
    "    return genes_clusterid "
   ]
  },
  {
   "cell_type": "code",
   "execution_count": 32,
   "metadata": {},
   "outputs": [
    {
     "data": {
      "text/plain": [
       "cluster    3\n",
       "Name: MBURv2_10007, dtype: int32"
      ]
     },
     "execution_count": 32,
     "metadata": {},
     "output_type": "execute_result"
    }
   ],
   "source": [
    "kmeans_cluster('MBURv2_10007')"
   ]
  },
  {
   "cell_type": "code",
   "execution_count": null,
   "metadata": {
    "collapsed": true
   },
   "outputs": [],
   "source": []
  },
  {
   "cell_type": "code",
   "execution_count": null,
   "metadata": {
    "collapsed": true
   },
   "outputs": [],
   "source": []
  },
  {
   "cell_type": "markdown",
   "metadata": {},
   "source": [
    "### Cluster Overview"
   ]
  },
  {
   "cell_type": "code",
   "execution_count": 101,
   "metadata": {
    "collapsed": true
   },
   "outputs": [],
   "source": [
    "def cluster_size(k):\n",
    "    \"\"\"\n",
    "\n",
    "    \"\"\"\n",
    "    X = df\n",
    "\n",
    "    kmeans = KMeans(n_clusters= k , max_iter=300, random_state=4) \n",
    "    kmeans.fit(X)\n",
    "    \n",
    "    labels_kmeans = kmeans.labels_\n",
    "    df_clusterid = pd.DataFrame(labels_kmeans, index = df.index)\n",
    "    df_clusterid.rename(columns = {0:\"cluster\"}, inplace = True)\n",
    "    df_clusters = pd.concat([df, df_clusterid], axis = 1)\n",
    "    \n",
    "    #genes_clusterid = df_clusterid.loc[gene]\n",
    "    \n",
    "    count = df_clusters.groupby('cluster').count().iloc[:,0]\n",
    "    \n",
    "    fig = plt.figure(figsize=(15, 10))\n",
    "\n",
    "    x_axis = list(count.index)\n",
    "    y = count.values\n",
    "\n",
    "    plt.bar(x_axis, y)\n",
    "\n",
    "    plt.xticks(list(range(k)),fontsize=14)\n",
    "    plt.xlabel('cluster id',fontsize=20)\n",
    "    plt.ylabel('number od genes in each cluster',fontsize=20)\n",
    "    plt.title('Cluster Size Overview',fontsize=24)\n",
    "   \n",
    "    return  plt.show()"
   ]
  },
  {
   "cell_type": "code",
   "execution_count": 102,
   "metadata": {},
   "outputs": [
    {
     "data": {
      "image/png": "[encoded data removed]",
      "text/plain": [
       "<matplotlib.figure.Figure at 0x122901780>"
      ]
     },
     "metadata": {},
     "output_type": "display_data"
    }
   ],
   "source": [
    "cluster_size(15)"
   ]
  },
  {
   "cell_type": "code",
   "execution_count": 50,
   "metadata": {},
   "outputs": [],
   "source": [
    "X = df\n",
    "\n",
    "kmeans = KMeans(n_clusters= 15 , max_iter=300, random_state=4) \n",
    "kmeans.fit(X)\n",
    "labels_kmeans = kmeans.labels_\n",
    "df_clusterid = pd.DataFrame(labels_kmeans, index = df.index)\n",
    "df_clusterid.rename(columns = {0:\"cluster\"}, inplace = True)\n",
    "df_clusters = pd.concat([df, df_clusterid], axis = 1)"
   ]
  },
  {
   "cell_type": "code",
   "execution_count": 55,
   "metadata": {},
   "outputs": [],
   "source": [
    "count = df_clusters.groupby('cluster').count().iloc[:,0]"
   ]
  },
  {
   "cell_type": "code",
   "execution_count": 77,
   "metadata": {
    "scrolled": true
   },
   "outputs": [
    {
     "data": {
      "text/plain": [
       "array([406, 583, 214, 518, 161, 524,  23, 150,  36, 504, 413,  47, 264,\n",
       "        31, 536])"
      ]
     },
     "execution_count": 77,
     "metadata": {},
     "output_type": "execute_result"
    }
   ],
   "source": [
    "count.values"
   ]
  },
  {
   "cell_type": "code",
   "execution_count": 98,
   "metadata": {},
   "outputs": [
    {
     "data": {
      "image/png": "[encoded data removed]",
      "text/plain": [
       "<matplotlib.figure.Figure at 0x123646240>"
      ]
     },
     "metadata": {},
     "output_type": "display_data"
    }
   ],
   "source": [
    "fig = plt.figure(figsize=(15, 10))\n",
    "\n",
    "x_axis = list(count.index)\n",
    "y = count.values\n",
    "\n",
    "plt.bar(x_axis, y)\n",
    "\n",
    "plt.xticks(list(range(15)),fontsize=14)\n",
    "plt.xlabel('cluster id',fontsize=20)\n",
    "plt.ylabel('number od genes in each cluster',fontsize=20)\n",
    "plt.title('Cluster Size Overview',fontsize=24)\n",
    "\n",
    "plt.show()"
   ]
  },
  {
   "cell_type": "code",
   "execution_count": null,
   "metadata": {
    "collapsed": true
   },
   "outputs": [],
   "source": []
  }
 ],
 "metadata": {
  "kernelspec": {
   "display_name": "Python 3",
   "language": "python",
   "name": "python3"
  },
  "language_info": {
   "codemirror_mode": {
    "name": "ipython",
    "version": 3
   },
   "file_extension": ".py",
   "mimetype": "text/x-python",
   "name": "python",
   "nbconvert_exporter": "python",
   "pygments_lexer": "ipython3",
   "version": "3.6.1"
  }
 },
 "nbformat": 4,
 "nbformat_minor": 2
}
